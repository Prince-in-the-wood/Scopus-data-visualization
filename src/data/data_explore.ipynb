{
 "cells": [
  {
   "cell_type": "code",
   "execution_count": 28,
   "metadata": {},
   "outputs": [],
   "source": [
    "import pandas as pd\n",
    "import json\n"
   ]
  },
  {
   "cell_type": "code",
   "execution_count": 29,
   "metadata": {},
   "outputs": [],
   "source": [
    "df = pd.read_csv('dataset/scopusToCSV.csv')"
   ]
  },
  {
   "cell_type": "code",
   "execution_count": 30,
   "metadata": {},
   "outputs": [
    {
     "data": {
      "text/plain": [
       "id                                              SCOPUS_ID:85186955255\n",
       "title               Perspectives on label-free microscopy of heter...\n",
       "aggregation_type                                              Journal\n",
       "subtype                                                       Article\n",
       "cited_by_cnt                                                        0\n",
       "publication_name                         Journal of biomedical optics\n",
       "publisher                                                         NaN\n",
       "volume                                                             29\n",
       "coverDate                                                  2025-12-01\n",
       "surname                                                          Pham\n",
       "given_name                                                     Dan L.\n",
       "affiliation         [{'affilname': 'UW-Madison College of Engineer...\n",
       "Name: 0, dtype: object"
      ]
     },
     "execution_count": 30,
     "metadata": {},
     "output_type": "execute_result"
    }
   ],
   "source": [
    "df.loc[0]"
   ]
  },
  {
   "cell_type": "code",
   "execution_count": 31,
   "metadata": {},
   "outputs": [],
   "source": [
    "import numpy as np\n",
    "\n",
    "\n",
    "condition = (df['affiliation'] == \"['affilname', 'affiliation-city', 'affiliation-country']\")\n",
    "df.loc[condition, 'affiliation'] = np.NaN"
   ]
  },
  {
   "cell_type": "code",
   "execution_count": 32,
   "metadata": {},
   "outputs": [],
   "source": [
    "import ast\n",
    "\n",
    "condition = pd.notna(df['affiliation'])\n",
    "df.loc[condition, 'affiliation'] = df.loc[condition, 'affiliation'].apply(lambda x: ast.literal_eval(x))"
   ]
  },
  {
   "cell_type": "code",
   "execution_count": 33,
   "metadata": {},
   "outputs": [
    {
     "data": {
      "text/plain": [
       "4885"
      ]
     },
     "execution_count": 33,
     "metadata": {},
     "output_type": "execute_result"
    }
   ],
   "source": [
    "df['full_name1'] = df.agg('{0[given_name]} {0[surname]}'.format, axis=1)\n",
    "df['full_name1'].unique().size"
   ]
  },
  {
   "cell_type": "code",
   "execution_count": 34,
   "metadata": {},
   "outputs": [
    {
     "data": {
      "text/plain": [
       "4881"
      ]
     },
     "execution_count": 34,
     "metadata": {},
     "output_type": "execute_result"
    }
   ],
   "source": [
    "df['full_name2'] = df['given_name'] + \" \" +  df['surname']\n",
    "df['full_name2'].unique().size"
   ]
  },
  {
   "cell_type": "code",
   "execution_count": 35,
   "metadata": {},
   "outputs": [
    {
     "data": {
      "text/plain": [
       "0"
      ]
     },
     "execution_count": 35,
     "metadata": {},
     "output_type": "execute_result"
    }
   ],
   "source": [
    "df['surname'].isnull().sum()"
   ]
  },
  {
   "cell_type": "code",
   "execution_count": 36,
   "metadata": {},
   "outputs": [
    {
     "name": "stdout",
     "output_type": "stream",
     "text": [
      "['Dan L. Pham' 'Xiaoyun Chen' 'Bolin Li' ... 'Marzhan Nyssanbek'\n",
      " 'Manish K. Yadav' 'A. Koulogiannis']\n"
     ]
    }
   ],
   "source": [
    "def concat_name(x):\n",
    "    if pd.isnull(x['given_name']):\n",
    "        return x['surname']\n",
    "    return x['given_name'] + \" \" +  x['surname']\n",
    "\n",
    "df['full_name'] = df.apply(concat_name, axis=1)\n",
    "full_name_list = df['full_name'].unique()\n",
    "print(full_name_list)"
   ]
  },
  {
   "cell_type": "code",
   "execution_count": 37,
   "metadata": {},
   "outputs": [
    {
     "data": {
      "text/plain": [
       "12"
      ]
     },
     "execution_count": 37,
     "metadata": {},
     "output_type": "execute_result"
    }
   ],
   "source": [
    "df['cited_by_cnt'].max()"
   ]
  },
  {
   "cell_type": "code",
   "execution_count": 38,
   "metadata": {},
   "outputs": [],
   "source": [
    "data_4 = df.groupby('full_name')['cited_by_cnt'].sum().reset_index().sort_values('cited_by_cnt', ascending=False)\n",
    "data_4 = data_4[data_4['cited_by_cnt'] > 0]\n",
    "data_4 = pd.concat([data_4, pd.DataFrame({'full_name': 'others','cited_by_cnt': 0}, index=[0])], ignore_index=True)\n",
    "# data_4"
   ]
  },
  {
   "cell_type": "code",
   "execution_count": 39,
   "metadata": {},
   "outputs": [],
   "source": [
    "df = df.explode('affiliation')\n",
    "# df"
   ]
  },
  {
   "cell_type": "code",
   "execution_count": 40,
   "metadata": {},
   "outputs": [],
   "source": [
    "def split_affiliation_col(x):\n",
    "    if pd.isna(x):\n",
    "        return np.nan, np.nan, np.nan\n",
    "    else:\n",
    "        return x['affilname'], x['affiliation-city'], x['affiliation-country']\n"
   ]
  },
  {
   "cell_type": "code",
   "execution_count": 41,
   "metadata": {},
   "outputs": [],
   "source": [
    "df_split = df.copy()\n",
    "# df_split[['affilname','affiliation-city','affiliation-country']] = df_split['affiliation'].apply(split_affiliation_col)\n",
    "# df_split\n",
    "\n",
    "split_data = df_split['affiliation'].apply(split_affiliation_col).apply(pd.Series)\n",
    "\n",
    "# # # Rename the columns of the split_data DataFrame\n",
    "split_data.columns = ['affilname', 'affiliation-city', 'affiliation-country']\n",
    "\n",
    "# # Assign the split data to the corresponding columns in df_split\n",
    "df_split[['affilname', 'affiliation-city', 'affiliation-country']] = split_data\n",
    "# split_data"
   ]
  },
  {
   "cell_type": "code",
   "execution_count": 42,
   "metadata": {},
   "outputs": [
    {
     "name": "stdout",
     "output_type": "stream",
     "text": [
      "Requirement already satisfied: pycountry-convert in c:\\users\\user\\anaconda3\\lib\\site-packages (0.7.2)\n",
      "Requirement already satisfied: pprintpp>=0.3.0 in c:\\users\\user\\anaconda3\\lib\\site-packages (from pycountry-convert) (0.4.0)\n",
      "Requirement already satisfied: pycountry>=16.11.27.1 in c:\\users\\user\\anaconda3\\lib\\site-packages (from pycountry-convert) (23.12.11)\n",
      "Requirement already satisfied: pytest>=3.4.0 in c:\\users\\user\\anaconda3\\lib\\site-packages (from pycountry-convert) (7.3.1)\n",
      "Requirement already satisfied: pytest-mock>=1.6.3 in c:\\users\\user\\anaconda3\\lib\\site-packages (from pycountry-convert) (3.14.0)\n",
      "Requirement already satisfied: pytest-cov>=2.5.1 in c:\\users\\user\\anaconda3\\lib\\site-packages (from pycountry-convert) (5.0.0)\n",
      "Requirement already satisfied: repoze.lru>=0.7 in c:\\users\\user\\anaconda3\\lib\\site-packages (from pycountry-convert) (0.7)\n",
      "Requirement already satisfied: wheel>=0.30.0 in c:\\users\\user\\appdata\\roaming\\python\\python311\\site-packages (from pycountry-convert) (0.42.0)\n",
      "Requirement already satisfied: iniconfig in c:\\users\\user\\anaconda3\\lib\\site-packages (from pytest>=3.4.0->pycountry-convert) (1.1.1)\n",
      "Requirement already satisfied: packaging in c:\\users\\user\\appdata\\roaming\\python\\python311\\site-packages (from pytest>=3.4.0->pycountry-convert) (23.2)\n",
      "Requirement already satisfied: pluggy<2.0,>=0.12 in c:\\users\\user\\anaconda3\\lib\\site-packages (from pytest>=3.4.0->pycountry-convert) (1.0.0)\n",
      "Requirement already satisfied: colorama in c:\\users\\user\\anaconda3\\lib\\site-packages (from pytest>=3.4.0->pycountry-convert) (0.4.6)\n",
      "Requirement already satisfied: coverage[toml]>=5.2.1 in c:\\users\\user\\anaconda3\\lib\\site-packages (from pytest-cov>=2.5.1->pycountry-convert) (7.5.0)\n",
      "Requirement already satisfied: pycountry in c:\\users\\user\\anaconda3\\lib\\site-packages (23.12.11)\n"
     ]
    }
   ],
   "source": [
    "!pip install pycountry-convert\n",
    "!pip install pycountry"
   ]
  },
  {
   "cell_type": "code",
   "execution_count": 43,
   "metadata": {},
   "outputs": [],
   "source": [
    "import pycountry\n",
    "import pycountry_convert as pc"
   ]
  },
  {
   "cell_type": "code",
   "execution_count": 44,
   "metadata": {},
   "outputs": [],
   "source": [
    "def get_continent(country_name):\n",
    "    try:\n",
    "        country_alpha_2 = pycountry.countries.lookup(country_name).alpha_2\n",
    "        continent_code = pc.country_alpha2_to_continent_code(country_alpha_2)\n",
    "        continent_name = pc.convert_continent_code_to_continent_name(continent_code)\n",
    "        return continent_name\n",
    "    except LookupError:\n",
    "        return np.NaN"
   ]
  },
  {
   "cell_type": "code",
   "execution_count": 45,
   "metadata": {},
   "outputs": [
    {
     "name": "stdout",
     "output_type": "stream",
     "text": [
      "nan\n"
     ]
    }
   ],
   "source": [
    "print(get_continent(\"turkey\"))"
   ]
  },
  {
   "cell_type": "code",
   "execution_count": 46,
   "metadata": {},
   "outputs": [],
   "source": [
    "df2 = pd.read_csv('dataset/scopusToCSV_FromAjarn.csv')"
   ]
  },
  {
   "cell_type": "code",
   "execution_count": 47,
   "metadata": {},
   "outputs": [],
   "source": [
    "condition = (df2['affiliation'] == \"['affilname', 'affiliation-city', 'affiliation-country']\") | \\\n",
    "                (df2['affiliation'] == \"['affiliation-city', '@id', 'affilname', '@href', 'affiliation-country']\" )\n",
    "df2.loc[condition, 'affiliation'] = np.NaN\n",
    "condition = pd.notna(df2['affiliation'])\n",
    "df2.loc[condition, 'affiliation'] = df2.loc[condition, 'affiliation'].apply(lambda x: ast.literal_eval(x))\n",
    "# df2"
   ]
  },
  {
   "cell_type": "code",
   "execution_count": 48,
   "metadata": {},
   "outputs": [
    {
     "name": "stdout",
     "output_type": "stream",
     "text": [
      "Requirement already satisfied: geopy in c:\\users\\user\\anaconda3\\lib\\site-packages (2.4.1)\n",
      "Requirement already satisfied: geographiclib<3,>=1.52 in c:\\users\\user\\anaconda3\\lib\\site-packages (from geopy) (2.0)\n",
      "Note: you may need to restart the kernel to use updated packages.\n"
     ]
    }
   ],
   "source": [
    "%pip install geopy"
   ]
  },
  {
   "cell_type": "code",
   "execution_count": 49,
   "metadata": {},
   "outputs": [],
   "source": [
    "df2 = df2.explode('affiliation')"
   ]
  },
  {
   "cell_type": "code",
   "execution_count": 50,
   "metadata": {},
   "outputs": [],
   "source": [
    "split_data = df2['affiliation'].apply(split_affiliation_col).apply(pd.Series)\n",
    "split_data.columns = ['affilname', 'affiliation-city', 'affiliation-country']\n",
    "df2[['affilname', 'affiliation-city', 'affiliation-country']] = split_data\n",
    "    \n",
    "df2['region'] = df2['affiliation-country'].apply(get_continent)"
   ]
  },
  {
   "cell_type": "code",
   "execution_count": 51,
   "metadata": {},
   "outputs": [],
   "source": [
    "all_df = pd.concat([df2, df_split])"
   ]
  },
  {
   "cell_type": "code",
   "execution_count": 52,
   "metadata": {},
   "outputs": [],
   "source": [
    "unique_rows = all_df.drop_duplicates(subset=['affiliation-city', 'affiliation-country']) \n",
    "unique_rows = unique_rows[['affiliation-city', 'affiliation-country']]"
   ]
  },
  {
   "cell_type": "code",
   "execution_count": 53,
   "metadata": {},
   "outputs": [
    {
     "name": "stdout",
     "output_type": "stream",
     "text": [
      "Requirement already satisfied: geopandas in c:\\users\\user\\anaconda3\\lib\\site-packages (0.14.4)\n",
      "Requirement already satisfied: fiona>=1.8.21 in c:\\users\\user\\anaconda3\\lib\\site-packages (from geopandas) (1.9.6)\n",
      "Requirement already satisfied: numpy>=1.22 in c:\\users\\user\\appdata\\roaming\\python\\python311\\site-packages (from geopandas) (1.26.4)\n",
      "Requirement already satisfied: packaging in c:\\users\\user\\appdata\\roaming\\python\\python311\\site-packages (from geopandas) (23.2)\n",
      "Requirement already satisfied: pandas>=1.4.0 in c:\\users\\user\\anaconda3\\lib\\site-packages (from geopandas) (1.5.3)\n",
      "Requirement already satisfied: pyproj>=3.3.0 in c:\\users\\user\\anaconda3\\lib\\site-packages (from geopandas) (3.6.1)\n",
      "Requirement already satisfied: shapely>=1.8.0 in c:\\users\\user\\anaconda3\\lib\\site-packages (from geopandas) (2.0.4)\n",
      "Requirement already satisfied: attrs>=19.2.0 in c:\\users\\user\\anaconda3\\lib\\site-packages (from fiona>=1.8.21->geopandas) (22.1.0)\n",
      "Requirement already satisfied: certifi in c:\\users\\user\\appdata\\roaming\\python\\python311\\site-packages (from fiona>=1.8.21->geopandas) (2024.2.2)\n",
      "Requirement already satisfied: click~=8.0 in c:\\users\\user\\anaconda3\\lib\\site-packages (from fiona>=1.8.21->geopandas) (8.0.4)\n",
      "Requirement already satisfied: click-plugins>=1.0 in c:\\users\\user\\anaconda3\\lib\\site-packages (from fiona>=1.8.21->geopandas) (1.1.1)\n",
      "Requirement already satisfied: cligj>=0.5 in c:\\users\\user\\anaconda3\\lib\\site-packages (from fiona>=1.8.21->geopandas) (0.7.2)\n",
      "Requirement already satisfied: six in c:\\users\\user\\appdata\\roaming\\python\\python311\\site-packages (from fiona>=1.8.21->geopandas) (1.16.0)\n",
      "Requirement already satisfied: python-dateutil>=2.8.1 in c:\\users\\user\\anaconda3\\lib\\site-packages (from pandas>=1.4.0->geopandas) (2.8.2)\n",
      "Requirement already satisfied: pytz>=2020.1 in c:\\users\\user\\anaconda3\\lib\\site-packages (from pandas>=1.4.0->geopandas) (2022.7)\n",
      "Requirement already satisfied: colorama in c:\\users\\user\\anaconda3\\lib\\site-packages (from click~=8.0->fiona>=1.8.21->geopandas) (0.4.6)\n",
      "Note: you may need to restart the kernel to use updated packages.\n"
     ]
    }
   ],
   "source": [
    "%pip install geopandas"
   ]
  },
  {
   "cell_type": "code",
   "execution_count": 54,
   "metadata": {},
   "outputs": [],
   "source": [
    "from geopy.geocoders import Nominatim\n",
    "\n",
    "import time\n",
    "\n",
    "\n",
    "def get_coordinates(idx, x):\n",
    "    if pd.isna(x).all():\n",
    "        return np.NaN, np.NaN\n",
    "    \n",
    "    country = x['affiliation-country']\n",
    "    city = x['affiliation-city']\n",
    "\n",
    "    geolocator = Nominatim(user_agent=f\"geolocation-{idx}-test2\")\n",
    "\n",
    "    # Introduce a delay of 1 second\n",
    "    time.sleep(1)\n",
    "\n",
    "    if pd.isna(country):\n",
    "        country = np.NaN\n",
    "        query = city\n",
    "    elif pd.isna(city):\n",
    "        city = np.NaN\n",
    "        try:\n",
    "            query = pc.country_name_to_country_alpha2(country, cn_name_format=\"default\")\n",
    "        except ValueError:\n",
    "            return np.NaN, np.NaN\n",
    "    else: \n",
    "        query = f\"{city} {country}\"\n",
    "    location = geolocator.geocode(query)\n",
    "   \n",
    "    if location:\n",
    "        latitude = location.latitude\n",
    "        longitude = location.longitude \n",
    "        if pd.isna(country):\n",
    "            pq = f\"{city}, \"\n",
    "        elif pd.isna(city):\n",
    "            pq = f\" , {country}\"\n",
    "        else:\n",
    "            pq = f\"{city}, {country}\"\n",
    "            print( f\"{pq}, {latitude}, {longitude},\")\n",
    "        return [city, country, latitude, longitude]\n",
    "    else:\n",
    "        return city, country, np.NaN, np.NaN"
   ]
  },
  {
   "cell_type": "code",
   "execution_count": 55,
   "metadata": {},
   "outputs": [],
   "source": [
    "responses = []"
   ]
  },
  {
   "cell_type": "code",
   "execution_count": 56,
   "metadata": {},
   "outputs": [],
   "source": [
    "# for index, row in unique_rows.iterrows():\n",
    "#     responses.append(get_coordinates(index, row))\n",
    "# # unique_rows[['affiliation-city', 'affiliation-country']].apply(get_coordinates, axis=1)"
   ]
  },
  {
   "cell_type": "code",
   "execution_count": 57,
   "metadata": {},
   "outputs": [
    {
     "data": {
      "text/plain": [
       "(4226, 2)"
      ]
     },
     "execution_count": 57,
     "metadata": {},
     "output_type": "execute_result"
    }
   ],
   "source": [
    "unique_rows.shape"
   ]
  },
  {
   "cell_type": "code",
   "execution_count": 58,
   "metadata": {},
   "outputs": [],
   "source": [
    "unique_rows.to_csv('responses.csv', index=False)"
   ]
  },
  {
   "cell_type": "code",
   "execution_count": 64,
   "metadata": {},
   "outputs": [],
   "source": [
    "coord_df = pd.read_csv(\"all_city_country/coordinates/coordinates.csv\")\n",
    "coord_df = coord_df.rename(columns={\n",
    "                \"original_affiliation-city\": \"affiliation-city\",\n",
    "                \"original_affiliation-country\": \"affiliation-country\",\n",
    "                \"lat\":\"latitude\",\n",
    "                \"lon\": \"longitude\"\n",
    "            })\n",
    "# coord_df[\"affiliation-city\", \"affiliation-country\",\"latitude\", \"longitude\"]\n",
    "df_test = pd.merge(df2, coord_df[[\"affiliation-city\", \"affiliation-country\",\"latitude\", \"longitude\"]], on=[\"affiliation-city\", \"affiliation-country\"], how='left')"
   ]
  },
  {
   "cell_type": "code",
   "execution_count": 74,
   "metadata": {},
   "outputs": [
    {
     "data": {
      "text/html": [
       "<div>\n",
       "<style scoped>\n",
       "    .dataframe tbody tr th:only-of-type {\n",
       "        vertical-align: middle;\n",
       "    }\n",
       "\n",
       "    .dataframe tbody tr th {\n",
       "        vertical-align: top;\n",
       "    }\n",
       "\n",
       "    .dataframe thead th {\n",
       "        text-align: right;\n",
       "    }\n",
       "</style>\n",
       "<table border=\"1\" class=\"dataframe\">\n",
       "  <thead>\n",
       "    <tr style=\"text-align: right;\">\n",
       "      <th></th>\n",
       "      <th>latitude</th>\n",
       "      <th>longitude</th>\n",
       "      <th>count</th>\n",
       "    </tr>\n",
       "  </thead>\n",
       "  <tbody>\n",
       "    <tr>\n",
       "      <th>668</th>\n",
       "      <td>13.752494</td>\n",
       "      <td>100.493509</td>\n",
       "      <td>15580</td>\n",
       "    </tr>\n",
       "    <tr>\n",
       "      <th>697</th>\n",
       "      <td>14.020396</td>\n",
       "      <td>100.534043</td>\n",
       "      <td>1747</td>\n",
       "    </tr>\n",
       "    <tr>\n",
       "      <th>676</th>\n",
       "      <td>13.819007</td>\n",
       "      <td>100.063992</td>\n",
       "      <td>1411</td>\n",
       "    </tr>\n",
       "    <tr>\n",
       "      <th>2941</th>\n",
       "      <td>51.507446</td>\n",
       "      <td>-0.127765</td>\n",
       "      <td>966</td>\n",
       "    </tr>\n",
       "    <tr>\n",
       "      <th>1837</th>\n",
       "      <td>37.566679</td>\n",
       "      <td>126.978291</td>\n",
       "      <td>880</td>\n",
       "    </tr>\n",
       "    <tr>\n",
       "      <th>...</th>\n",
       "      <td>...</td>\n",
       "      <td>...</td>\n",
       "      <td>...</td>\n",
       "    </tr>\n",
       "    <tr>\n",
       "      <th>2447</th>\n",
       "      <td>45.053475</td>\n",
       "      <td>9.694746</td>\n",
       "      <td>1</td>\n",
       "    </tr>\n",
       "    <tr>\n",
       "      <th>2446</th>\n",
       "      <td>45.003229</td>\n",
       "      <td>11.083693</td>\n",
       "      <td>1</td>\n",
       "    </tr>\n",
       "    <tr>\n",
       "      <th>2445</th>\n",
       "      <td>44.985786</td>\n",
       "      <td>19.630730</td>\n",
       "      <td>1</td>\n",
       "    </tr>\n",
       "    <tr>\n",
       "      <th>467</th>\n",
       "      <td>7.293121</td>\n",
       "      <td>80.635036</td>\n",
       "      <td>1</td>\n",
       "    </tr>\n",
       "    <tr>\n",
       "      <th>1662</th>\n",
       "      <td>35.776768</td>\n",
       "      <td>140.318338</td>\n",
       "      <td>1</td>\n",
       "    </tr>\n",
       "  </tbody>\n",
       "</table>\n",
       "<p>3324 rows × 3 columns</p>\n",
       "</div>"
      ],
      "text/plain": [
       "       latitude   longitude  count\n",
       "668   13.752494  100.493509  15580\n",
       "697   14.020396  100.534043   1747\n",
       "676   13.819007  100.063992   1411\n",
       "2941  51.507446   -0.127765    966\n",
       "1837  37.566679  126.978291    880\n",
       "...         ...         ...    ...\n",
       "2447  45.053475    9.694746      1\n",
       "2446  45.003229   11.083693      1\n",
       "2445  44.985786   19.630730      1\n",
       "467    7.293121   80.635036      1\n",
       "1662  35.776768  140.318338      1\n",
       "\n",
       "[3324 rows x 3 columns]"
      ]
     },
     "execution_count": 74,
     "metadata": {},
     "output_type": "execute_result"
    }
   ],
   "source": [
    "data = df_test.groupby([\"latitude\", \"longitude\"])['id'].nunique().reset_index() \\\n",
    "            .rename(columns={'id': 'count'}).sort_values(by='count', ascending=False)\n",
    "data"
   ]
  },
  {
   "cell_type": "code",
   "execution_count": 67,
   "metadata": {},
   "outputs": [],
   "source": [
    "data3 = df_test[[\"latitude\", \"longitude\",'region', 'id']]"
   ]
  },
  {
   "cell_type": "code",
   "execution_count": 68,
   "metadata": {},
   "outputs": [
    {
     "data": {
      "text/html": [
       "<div>\n",
       "<style scoped>\n",
       "    .dataframe tbody tr th:only-of-type {\n",
       "        vertical-align: middle;\n",
       "    }\n",
       "\n",
       "    .dataframe tbody tr th {\n",
       "        vertical-align: top;\n",
       "    }\n",
       "\n",
       "    .dataframe thead th {\n",
       "        text-align: right;\n",
       "    }\n",
       "</style>\n",
       "<table border=\"1\" class=\"dataframe\">\n",
       "  <thead>\n",
       "    <tr style=\"text-align: right;\">\n",
       "      <th></th>\n",
       "      <th>latitude</th>\n",
       "      <th>longitude</th>\n",
       "      <th>region</th>\n",
       "      <th>id</th>\n",
       "    </tr>\n",
       "  </thead>\n",
       "  <tbody>\n",
       "    <tr>\n",
       "      <th>0</th>\n",
       "      <td>37.427467</td>\n",
       "      <td>-122.170244</td>\n",
       "      <td>North America</td>\n",
       "      <td>SCOPUS_ID:85077976956</td>\n",
       "    </tr>\n",
       "    <tr>\n",
       "      <th>1</th>\n",
       "      <td>13.752494</td>\n",
       "      <td>100.493509</td>\n",
       "      <td>Asia</td>\n",
       "      <td>SCOPUS_ID:85077976956</td>\n",
       "    </tr>\n",
       "    <tr>\n",
       "      <th>2</th>\n",
       "      <td>13.752494</td>\n",
       "      <td>100.493509</td>\n",
       "      <td>Asia</td>\n",
       "      <td>SCOPUS_ID:85077976956</td>\n",
       "    </tr>\n",
       "    <tr>\n",
       "      <th>3</th>\n",
       "      <td>37.427467</td>\n",
       "      <td>-122.170244</td>\n",
       "      <td>North America</td>\n",
       "      <td>SCOPUS_ID:85077976956</td>\n",
       "    </tr>\n",
       "    <tr>\n",
       "      <th>4</th>\n",
       "      <td>37.444329</td>\n",
       "      <td>-122.159847</td>\n",
       "      <td>North America</td>\n",
       "      <td>SCOPUS_ID:85077976956</td>\n",
       "    </tr>\n",
       "    <tr>\n",
       "      <th>...</th>\n",
       "      <td>...</td>\n",
       "      <td>...</td>\n",
       "      <td>...</td>\n",
       "      <td>...</td>\n",
       "    </tr>\n",
       "    <tr>\n",
       "      <th>203227</th>\n",
       "      <td>51.507446</td>\n",
       "      <td>-0.127765</td>\n",
       "      <td>Europe</td>\n",
       "      <td>SCOPUS_ID:85110903700</td>\n",
       "    </tr>\n",
       "    <tr>\n",
       "      <th>203228</th>\n",
       "      <td>13.752494</td>\n",
       "      <td>100.493509</td>\n",
       "      <td>Asia</td>\n",
       "      <td>SCOPUS_ID:85106740832</td>\n",
       "    </tr>\n",
       "    <tr>\n",
       "      <th>203229</th>\n",
       "      <td>16.430392</td>\n",
       "      <td>102.835590</td>\n",
       "      <td>Asia</td>\n",
       "      <td>SCOPUS_ID:85106740832</td>\n",
       "    </tr>\n",
       "    <tr>\n",
       "      <th>203230</th>\n",
       "      <td>13.752494</td>\n",
       "      <td>100.493509</td>\n",
       "      <td>Asia</td>\n",
       "      <td>SCOPUS_ID:85106046890</td>\n",
       "    </tr>\n",
       "    <tr>\n",
       "      <th>203231</th>\n",
       "      <td>11.568271</td>\n",
       "      <td>104.922443</td>\n",
       "      <td>Asia</td>\n",
       "      <td>SCOPUS_ID:85106046890</td>\n",
       "    </tr>\n",
       "  </tbody>\n",
       "</table>\n",
       "<p>203232 rows × 4 columns</p>\n",
       "</div>"
      ],
      "text/plain": [
       "         latitude   longitude         region                     id\n",
       "0       37.427467 -122.170244  North America  SCOPUS_ID:85077976956\n",
       "1       13.752494  100.493509           Asia  SCOPUS_ID:85077976956\n",
       "2       13.752494  100.493509           Asia  SCOPUS_ID:85077976956\n",
       "3       37.427467 -122.170244  North America  SCOPUS_ID:85077976956\n",
       "4       37.444329 -122.159847  North America  SCOPUS_ID:85077976956\n",
       "...           ...         ...            ...                    ...\n",
       "203227  51.507446   -0.127765         Europe  SCOPUS_ID:85110903700\n",
       "203228  13.752494  100.493509           Asia  SCOPUS_ID:85106740832\n",
       "203229  16.430392  102.835590           Asia  SCOPUS_ID:85106740832\n",
       "203230  13.752494  100.493509           Asia  SCOPUS_ID:85106046890\n",
       "203231  11.568271  104.922443           Asia  SCOPUS_ID:85106046890\n",
       "\n",
       "[203232 rows x 4 columns]"
      ]
     },
     "execution_count": 68,
     "metadata": {},
     "output_type": "execute_result"
    }
   ],
   "source": [
    "data3"
   ]
  },
  {
   "cell_type": "code",
   "execution_count": 86,
   "metadata": {},
   "outputs": [
    {
     "name": "stdout",
     "output_type": "stream",
     "text": [
      "Book\n",
      "Conference Proceeding\n",
      "Journal\n",
      "Book Series\n",
      "Trade Journal\n"
     ]
    },
    {
     "data": {
      "text/plain": [
       "array(['Book', 'Conference Proceeding', 'Journal', 'Book Series',\n",
       "       'Trade Journal'], dtype=object)"
      ]
     },
     "execution_count": 86,
     "metadata": {},
     "output_type": "execute_result"
    }
   ],
   "source": [
    "df_test.groupby(['aggregation_type'])['id'].count().reset_index()\n",
    "l = df_test['aggregation_type'].unique()\n",
    "for i in l:\n",
    "    print(i)\n",
    "l"
   ]
  }
 ],
 "metadata": {
  "kernelspec": {
   "display_name": "base",
   "language": "python",
   "name": "python3"
  },
  "language_info": {
   "codemirror_mode": {
    "name": "ipython",
    "version": 3
   },
   "file_extension": ".py",
   "mimetype": "text/x-python",
   "name": "python",
   "nbconvert_exporter": "python",
   "pygments_lexer": "ipython3",
   "version": "3.11.3"
  }
 },
 "nbformat": 4,
 "nbformat_minor": 2
}
